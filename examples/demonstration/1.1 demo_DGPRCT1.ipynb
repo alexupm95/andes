{
 "cells": [
  {
   "cell_type": "markdown",
   "metadata": {},
   "source": [
    "# ANDES Demonstration of DGPRCT1 on IEEE 14-Bus System\n",
    "\n",
    "Prepared by Jinning Wang. Last revised 12 September 2021.\n",
    "\n",
    "## Background\n",
    "\n",
    "One load adjustment scenario is used to demonstrate `DGPRCT1`.\n",
    "\n",
    "In the modified IEEE 14-bus system, 10 PVD1 are conencted to `Bus 4`, and 1 DGPRCT1 is added aiming at `PVD1_2`.\n",
    "\n",
    "## Conclusion\n",
    "\n",
    "`DGPRCT1` can be used to implement protection on `DG` models."
   ]
  },
  {
   "cell_type": "code",
   "execution_count": null,
   "metadata": {},
   "outputs": [],
   "source": [
    "import andes\n",
    "from andes.utils.paths import get_case\n",
    "\n",
    "andes.config_logger(stream_level=30)"
   ]
  },
  {
   "cell_type": "code",
   "execution_count": null,
   "metadata": {},
   "outputs": [],
   "source": [
    "ss = andes.load(get_case('ieee14/ieee14_dgprct1.xlsx'),\n",
    "                setup=False,\n",
    "                no_output=True,\n",
    "                default_config=True)"
   ]
  },
  {
   "cell_type": "code",
   "execution_count": null,
   "metadata": {},
   "outputs": [],
   "source": [
    "ss.setup()"
   ]
  },
  {
   "cell_type": "code",
   "execution_count": null,
   "metadata": {
    "scrolled": true
   },
   "outputs": [],
   "source": [
    "# use constant power model for PQ\n",
    "ss.PQ.config.p2p = 1\n",
    "ss.PQ.config.q2q = 1\n",
    "ss.PQ.config.p2z = 0\n",
    "ss.PQ.config.q2z = 0\n",
    "\n",
    "# turn off under-voltage PQ-to-Z conversion\n",
    "ss.PQ.pq2z = 0\n",
    "ss.PFlow.run()"
   ]
  },
  {
   "cell_type": "code",
   "execution_count": 5,
   "metadata": {},
   "outputs": [
    {
     "data": {
      "text/plain": [
       "False"
      ]
     },
     "execution_count": 5,
     "metadata": {},
     "output_type": "execute_result"
    }
   ],
   "source": [
    "ss.PVD1.Iqcmd.lim.allow_adjust"
   ]
  },
  {
   "cell_type": "code",
   "execution_count": 6,
   "metadata": {},
   "outputs": [
    {
     "name": "stderr",
     "output_type": "stream",
     "text": [
      "c:\\users\\usuario\\andes\\andes\\core\\model\\model.py:790: ComplexWarning: Casting complex values to real discards the imaginary part\n",
      "  instance.v = np.array(func(*self.s_args[name]),\n",
      "c:\\users\\usuario\\andes\\andes\\core\\model\\model.py:829: ComplexWarning: Casting complex values to real discards the imaginary part\n",
      "  instance.v[:] = func(*self.s_args[name])\n"
     ]
    },
    {
     "data": {
      "application/vnd.jupyter.widget-view+json": {
       "model_id": "e8eaa559df6948d08c2b6f63b13ebae6",
       "version_major": 2,
       "version_minor": 0
      },
      "text/plain": [
       "  0%|          | 0/100 [00:00<?, ?%/s]"
      ]
     },
     "metadata": {},
     "output_type": "display_data"
    },
    {
     "name": "stdout",
     "output_type": "stream",
     "text": [
      "<Toggle 1>: StaticLoad.PQ_12 status changed to 1 at t=1.0 sec.\n",
      "<Toggle 2>: StaticLoad.PQ_12 status changed to 0 at t=10.0 sec.\n"
     ]
    },
    {
     "data": {
      "text/plain": [
       "True"
      ]
     },
     "execution_count": 6,
     "metadata": {},
     "output_type": "execute_result"
    }
   ],
   "source": [
    "ss.TDS.config.tf = 20\n",
    "ss.TDS.run()"
   ]
  },
  {
   "cell_type": "code",
   "execution_count": null,
   "metadata": {},
   "outputs": [
    {
     "name": "stdout",
     "output_type": "stream",
     "text": [
      "Using LaTeX for rendering. If an error occurs:\n",
      "a) If you are using `andes plot`, disable with option \"-d\",\n",
      "b) If you are using `plot()`, set \"latex=False\".\n"
     ]
    }
   ],
   "source": [
    "ss.TDS.plt.plot(ss.TGOV1.LAG_y)"
   ]
  },
  {
   "cell_type": "code",
   "execution_count": null,
   "metadata": {},
   "outputs": [],
   "source": [
    "ss.exit_code"
   ]
  },
  {
   "cell_type": "markdown",
   "metadata": {},
   "source": [
    "## Results"
   ]
  },
  {
   "cell_type": "markdown",
   "metadata": {},
   "source": [
    "### System frequency and lock flag\n",
    "\n",
    "The lock flag is raised at `Tfl1` after the frequency drop below `fl1`"
   ]
  },
  {
   "cell_type": "code",
   "execution_count": null,
   "metadata": {},
   "outputs": [],
   "source": [
    "ss.TDS.plt.plot(ss.BusFreq.f,\n",
    "                a=(3),\n",
    "                ycalc=lambda x: 60*x,\n",
    "                hline=[ss.DGPRCT1.fl1.v[0], ss.DGPRCT1.fl2.v[0]],\n",
    "                title='PVD1\\_2 Connected Bus Freq (measured by BusFreq 4)')\n",
    "\n",
    "ss.TDS.plt.plot(ss.DGPRCT1.ue,\n",
    "                title='DGPRCT1\\_1 lock flag (applied on PVD1\\_2)')"
   ]
  },
  {
   "cell_type": "markdown",
   "metadata": {},
   "source": [
    "### PVD1_2 read frequency and frequency signal source\n",
    "\n",
    "The `PVD1_2` read frequency is locked, but the signal source (in the `BusFreq 4`) remains unchanged"
   ]
  },
  {
   "cell_type": "code",
   "execution_count": null,
   "metadata": {},
   "outputs": [],
   "source": [
    "ss.TDS.plt.plot(ss.PVD1.fHz,\n",
    "                a=(0,1),\n",
    "                hline=[ss.DGPRCT1.fl1.v[0], ss.DGPRCT1.fl2.v[0]],\n",
    "                title='PVD1 Read f')\n",
    "\n",
    "ss.TDS.plt.plot(ss.DGPRCT1.fHz,\n",
    "                hline=[ss.DGPRCT1.fl1.v[0], ss.DGPRCT1.fl2.v[0]],\n",
    "                title='BusFreq 4 Output f',\n",
    "                )"
   ]
  },
  {
   "cell_type": "markdown",
   "metadata": {},
   "source": [
    "### PVD1_2 power command\n",
    "\n",
    "`PVD1_2` power commands are locked to 0 **immediately**.\n",
    "\n",
    "Once the protection was released, they returned to normal **immediately**."
   ]
  },
  {
   "cell_type": "code",
   "execution_count": null,
   "metadata": {},
   "outputs": [],
   "source": [
    "ss.TDS.plt.plot(ss.PVD1.Psum,\n",
    "                a=(0,1),\n",
    "                title='PVD1 $P_{tot}$ (active power command)')\n",
    "\n",
    "ss.TDS.plt.plot(ss.PVD1.Qsum,\n",
    "                a=(0,1),\n",
    "                title='PVD1 $Q_{tot}$ (reactive power command)')"
   ]
  },
  {
   "cell_type": "markdown",
   "metadata": {},
   "source": [
    "### PVD1_2 current command\n",
    "\n",
    "Consequently, `PVD1_2` current commands are locked to 0 **immediately**.\n",
    "\n",
    "Once the protection was released, they returned to normal **immediately**."
   ]
  },
  {
   "cell_type": "code",
   "execution_count": null,
   "metadata": {},
   "outputs": [],
   "source": [
    "ss.TDS.plt.plot(ss.PVD1.Ipul,\n",
    "                a=(0,1),\n",
    "                title='PVD1 $I_{p,ul}$ (current command before hard limit)')\n",
    "\n",
    "ss.TDS.plt.plot(ss.PVD1.Iqul,\n",
    "                a=(0,1),\n",
    "                title='PVD1 $I_{q,ul}$ (current command before hard limit)')"
   ]
  },
  {
   "cell_type": "markdown",
   "metadata": {},
   "source": [
    "### PVD1_2 output current\n",
    "\n",
    "As a result, `PVD1_2` output current decreased to 0 **gradually**.\n",
    "\n",
    "When the protection was released, they returned to normal **gradually**.\n",
    "\n",
    "Here, the `PVD1` output current `Lag` time constant (`tip` and `tiq`) are modified to 0.5, which is only for observation.\n",
    "\n",
    "Usually, power electronic device can response in ms level."
   ]
  },
  {
   "cell_type": "code",
   "execution_count": null,
   "metadata": {},
   "outputs": [],
   "source": [
    "ss.TDS.plt.plot(ss.PVD1.Ipout_y,\n",
    "                a=(0,1),\n",
    "                title='PVD1 $I_{p,out}$ (actual output current)')\n",
    "\n",
    "ss.TDS.plt.plot(ss.PVD1.Iqout_y,\n",
    "                a=(0,1),\n",
    "                title='PVD1 $I_{q,out}$ (actual output current)')"
   ]
  },
  {
   "cell_type": "markdown",
   "metadata": {},
   "source": [
    "## Cleanup"
   ]
  },
  {
   "cell_type": "code",
   "execution_count": null,
   "metadata": {},
   "outputs": [],
   "source": [
    "!andes misc -C"
   ]
  },
  {
   "cell_type": "code",
   "execution_count": null,
   "metadata": {},
   "outputs": [],
   "source": []
  }
 ],
 "metadata": {
  "interpreter": {
   "hash": "b2f979d891be15b14f4332b6eed75a0475160d17003978b44c1d0bc62ad71649"
  },
  "kernelspec": {
   "display_name": "Python 3 (ipykernel)",
   "language": "python",
   "name": "python3"
  },
  "language_info": {
   "codemirror_mode": {
    "name": "ipython",
    "version": 3
   },
   "file_extension": ".py",
   "mimetype": "text/x-python",
   "name": "python",
   "nbconvert_exporter": "python",
   "pygments_lexer": "ipython3",
   "version": "3.9.23"
  },
  "metadata": {
   "interpreter": {
    "hash": "7dcf7be8cc97f6f28812ee601415372b88ddefbec529c6a68a6def4717df442e"
   }
  }
 },
 "nbformat": 4,
 "nbformat_minor": 4
}
